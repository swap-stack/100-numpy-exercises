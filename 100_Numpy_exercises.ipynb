{
 "cells": [
  {
   "cell_type": "markdown",
   "metadata": {},
   "source": [
    "# 100 numpy exercises\n",
    "\n",
    "This is a collection of exercises that have been collected in the numpy mailing list, on stack overflow\n",
    "and in the numpy documentation. The goal of this collection is to offer a quick reference for both old\n",
    "and new users but also to provide a set of exercises for those who teach.\n",
    "\n",
    "\n",
    "If you find an error or think you've a better way to solve some of them, feel\n",
    "free to open an issue at <https://github.com/rougier/numpy-100>."
   ]
  },
  {
   "cell_type": "markdown",
   "metadata": {},
   "source": [
    "File automatically generated. See the documentation to update questions/answers/hints programmatically."
   ]
  },
  {
   "cell_type": "markdown",
   "metadata": {},
   "source": [
    "Run the `initialize.py` module, then for each question you can query the\n",
    "answer or an hint with `hint(n)` or `answer(n)` for `n` question number."
   ]
  },
  {
   "cell_type": "code",
   "execution_count": 4,
   "metadata": {},
   "outputs": [],
   "source": [
    "%run initialise.py"
   ]
  },
  {
   "cell_type": "markdown",
   "metadata": {},
   "source": [
    "#### 1. Import the numpy package under the name `np` (★☆☆)"
   ]
  },
  {
   "cell_type": "code",
   "execution_count": 2,
   "metadata": {},
   "outputs": [],
   "source": [
    "import numpy as np\n"
   ]
  },
  {
   "cell_type": "markdown",
   "metadata": {},
   "source": [
    "#### 2. Print the numpy version and the configuration (★☆☆)"
   ]
  },
  {
   "cell_type": "code",
   "execution_count": 70,
   "metadata": {},
   "outputs": [
    {
     "output_type": "stream",
     "name": "stdout",
     "text": [
      "1.17.4\n"
     ]
    }
   ],
   "source": [
    "print(np.__version__)\n"
   ]
  },
  {
   "cell_type": "markdown",
   "metadata": {},
   "source": [
    "#### 3. Create a null vector of size 10 (★☆☆)"
   ]
  },
  {
   "cell_type": "code",
   "execution_count": 8,
   "metadata": {},
   "outputs": [
    {
     "output_type": "execute_result",
     "data": {
      "text/plain": [
       "array([nan, nan, nan, nan, nan, nan, nan, nan, nan, nan])"
      ]
     },
     "metadata": {},
     "execution_count": 8
    }
   ],
   "source": [
    "np.array([np.nan]*10)"
   ]
  },
  {
   "cell_type": "markdown",
   "metadata": {},
   "source": [
    "#### 4. How to find the memory size of any array (★☆☆)"
   ]
  },
  {
   "cell_type": "code",
   "execution_count": 75,
   "metadata": {},
   "outputs": [
    {
     "output_type": "stream",
     "name": "stdout",
     "text": [
      "2\n100\n800 bytes\n"
     ]
    }
   ],
   "source": [
    "Z = np.array((10, 10))\n",
    "print(np.size(Z))\n",
    "\n",
    "# --------------\n",
    "Z = np.zeros((10,10))\n",
    "print(\"%d bytes\" % (Z.size * Z.itemsize))"
   ]
  },
  {
   "cell_type": "markdown",
   "metadata": {},
   "source": [
    "#### 5. How to get the documentation of the numpy add function from the command line? (★☆☆)"
   ]
  },
  {
   "cell_type": "code",
   "execution_count": 77,
   "metadata": {
    "tags": [
     "outputPrepend"
    ]
   },
   "outputs": [
    {
     "output_type": "stream",
     "name": "stdout",
     "text": [
      "       t = op(t, A[i])\n |            r[i] = t\n |        return r\n |      \n |      For example, add.accumulate() is equivalent to np.cumsum().\n |      \n |      For a multi-dimensional array, accumulate is applied along only one\n |      axis (axis zero by default; see Examples below) so repeated use is\n |      necessary if one wants to accumulate over multiple axes.\n |      \n |      Parameters\n |      ----------\n |      array : array_like\n |          The array to act on.\n |      axis : int, optional\n |          The axis along which to apply the accumulation; default is zero.\n |      dtype : data-type code, optional\n |          The data-type used to represent the intermediate results. Defaults\n |          to the data-type of the output array if such is provided, or the\n |          the data-type of the input array if no output array is provided.\n |      out : ndarray, None, or tuple of ndarray and None, optional\n |          A location into which the result is stored. If not provided or `None`,\n |          a freshly-allocated array is returned. For consistency with\n |          ``ufunc.__call__``, if given as a keyword, this may be wrapped in a\n |          1-element tuple.\n |      \n |          .. versionchanged:: 1.13.0\n |             Tuples are allowed for keyword argument.\n |      \n |      Returns\n |      -------\n |      r : ndarray\n |          The accumulated values. If `out` was supplied, `r` is a reference to\n |          `out`.\n |      \n |      Examples\n |      --------\n |      1-D array examples:\n |      \n |      >>> np.add.accumulate([2, 3, 5])\n |      array([ 2,  5, 10])\n |      >>> np.multiply.accumulate([2, 3, 5])\n |      array([ 2,  6, 30])\n |      \n |      2-D array examples:\n |      \n |      >>> I = np.eye(2)\n |      >>> I\n |      array([[1.,  0.],\n |             [0.,  1.]])\n |      \n |      Accumulate along axis 0 (rows), down columns:\n |      \n |      >>> np.add.accumulate(I, 0)\n |      array([[1.,  0.],\n |             [1.,  1.]])\n |      >>> np.add.accumulate(I) # no axis specified = axis zero\n |      array([[1.,  0.],\n |             [1.,  1.]])\n |      \n |      Accumulate along axis 1 (columns), through rows:\n |      \n |      >>> np.add.accumulate(I, 1)\n |      array([[1.,  1.],\n |             [0.,  1.]])\n |  \n |  at(...)\n |      at(a, indices, b=None)\n |      \n |      Performs unbuffered in place operation on operand 'a' for elements\n |      specified by 'indices'. For addition ufunc, this method is equivalent to\n |      ``a[indices] += b``, except that results are accumulated for elements that\n |      are indexed more than once. For example, ``a[[0,0]] += 1`` will only\n |      increment the first element once because of buffering, whereas\n |      ``add.at(a, [0,0], 1)`` will increment the first element twice.\n |      \n |      .. versionadded:: 1.8.0\n |      \n |      Parameters\n |      ----------\n |      a : array_like\n |          The array to perform in place operation on.\n |      indices : array_like or tuple\n |          Array like index object or slice object for indexing into first\n |          operand. If first operand has multiple dimensions, indices can be a\n |          tuple of array like index objects or slice objects.\n |      b : array_like\n |          Second operand for ufuncs requiring two operands. Operand must be\n |          broadcastable over first operand after indexing or slicing.\n |      \n |      Examples\n |      --------\n |      Set items 0 and 1 to their negative values:\n |      \n |      >>> a = np.array([1, 2, 3, 4])\n |      >>> np.negative.at(a, [0, 1])\n |      >>> a\n |      array([-1, -2,  3,  4])\n |      \n |      Increment items 0 and 1, and increment item 2 twice:\n |      \n |      >>> a = np.array([1, 2, 3, 4])\n |      >>> np.add.at(a, [0, 1, 2, 2], 1)\n |      >>> a\n |      array([2, 3, 5, 4])\n |      \n |      Add items 0 and 1 in first array to second array,\n |      and store results in first array:\n |      \n |      >>> a = np.array([1, 2, 3, 4])\n |      >>> b = np.array([1, 2])\n |      >>> np.add.at(a, [0, 1], b)\n |      >>> a\n |      array([2, 4, 3, 4])\n |  \n |  outer(...)\n |      outer(A, B, **kwargs)\n |      \n |      Apply the ufunc `op` to all pairs (a, b) with a in `A` and b in `B`.\n |      \n |      Let ``M = A.ndim``, ``N = B.ndim``. Then the result, `C`, of\n |      ``op.outer(A, B)`` is an array of dimension M + N such that:\n |      \n |      .. math:: C[i_0, ..., i_{M-1}, j_0, ..., j_{N-1}] =\n |         op(A[i_0, ..., i_{M-1}], B[j_0, ..., j_{N-1}])\n |      \n |      For `A` and `B` one-dimensional, this is equivalent to::\n |      \n |        r = empty(len(A),len(B))\n |        for i in range(len(A)):\n |            for j in range(len(B)):\n |                r[i,j] = op(A[i], B[j]) # op = ufunc in question\n |      \n |      Parameters\n |      ----------\n |      A : array_like\n |          First array\n |      B : array_like\n |          Second array\n |      kwargs : any\n |          Arguments to pass on to the ufunc. Typically `dtype` or `out`.\n |      \n |      Returns\n |      -------\n |      r : ndarray\n |          Output array\n |      \n |      See Also\n |      --------\n |      numpy.outer\n |      \n |      Examples\n |      --------\n |      >>> np.multiply.outer([1, 2, 3], [4, 5, 6])\n |      array([[ 4,  5,  6],\n |             [ 8, 10, 12],\n |             [12, 15, 18]])\n |      \n |      A multi-dimensional example:\n |      \n |      >>> A = np.array([[1, 2, 3], [4, 5, 6]])\n |      >>> A.shape\n |      (2, 3)\n |      >>> B = np.array([[1, 2, 3, 4]])\n |      >>> B.shape\n |      (1, 4)\n |      >>> C = np.multiply.outer(A, B)\n |      >>> C.shape; C\n |      (2, 3, 1, 4)\n |      array([[[[ 1,  2,  3,  4]],\n |              [[ 2,  4,  6,  8]],\n |              [[ 3,  6,  9, 12]]],\n |             [[[ 4,  8, 12, 16]],\n |              [[ 5, 10, 15, 20]],\n |              [[ 6, 12, 18, 24]]]])\n |  \n |  reduce(...)\n |      reduce(a, axis=0, dtype=None, out=None, keepdims=False, initial=<no value>, where=True)\n |      \n |      Reduces `a`'s dimension by one, by applying ufunc along one axis.\n |      \n |      Let :math:`a.shape = (N_0, ..., N_i, ..., N_{M-1})`.  Then\n |      :math:`ufunc.reduce(a, axis=i)[k_0, ..,k_{i-1}, k_{i+1}, .., k_{M-1}]` =\n |      the result of iterating `j` over :math:`range(N_i)`, cumulatively applying\n |      ufunc to each :math:`a[k_0, ..,k_{i-1}, j, k_{i+1}, .., k_{M-1}]`.\n |      For a one-dimensional array, reduce produces results equivalent to:\n |      ::\n |      \n |       r = op.identity # op = ufunc\n |       for i in range(len(A)):\n |         r = op(r, A[i])\n |       return r\n |      \n |      For example, add.reduce() is equivalent to sum().\n |      \n |      Parameters\n |      ----------\n |      a : array_like\n |          The array to act on.\n |      axis : None or int or tuple of ints, optional\n |          Axis or axes along which a reduction is performed.\n |          The default (`axis` = 0) is perform a reduction over the first\n |          dimension of the input array. `axis` may be negative, in\n |          which case it counts from the last to the first axis.\n |      \n |          .. versionadded:: 1.7.0\n |      \n |          If this is `None`, a reduction is performed over all the axes.\n |          If this is a tuple of ints, a reduction is performed on multiple\n |          axes, instead of a single axis or all the axes as before.\n |      \n |          For operations which are either not commutative or not associative,\n |          doing a reduction over multiple axes is not well-defined. The\n |          ufuncs do not currently raise an exception in this case, but will\n |          likely do so in the future.\n |      dtype : data-type code, optional\n |          The type used to represent the intermediate results. Defaults\n |          to the data-type of the output array if this is provided, or\n |          the data-type of the input array if no output array is provided.\n |      out : ndarray, None, or tuple of ndarray and None, optional\n |          A location into which the result is stored. If not provided or `None`,\n |          a freshly-allocated array is returned. For consistency with\n |          ``ufunc.__call__``, if given as a keyword, this may be wrapped in a\n |          1-element tuple.\n |      \n |          .. versionchanged:: 1.13.0\n |             Tuples are allowed for keyword argument.\n |      keepdims : bool, optional\n |          If this is set to True, the axes which are reduced are left\n |          in the result as dimensions with size one. With this option,\n |          the result will broadcast correctly against the original `arr`.\n |      \n |          .. versionadded:: 1.7.0\n |      initial : scalar, optional\n |          The value with which to start the reduction.\n |          If the ufunc has no identity or the dtype is object, this defaults\n |          to None - otherwise it defaults to ufunc.identity.\n |          If ``None`` is given, the first element of the reduction is used,\n |          and an error is thrown if the reduction is empty.\n |      \n |          .. versionadded:: 1.15.0\n |      \n |      where : array_like of bool, optional\n |          A boolean array which is broadcasted to match the dimensions\n |          of `a`, and selects elements to include in the reduction. Note\n |          that for ufuncs like ``minimum`` that do not have an identity\n |          defined, one has to pass in also ``initial``.\n |      \n |          .. versionadded:: 1.17.0\n |      \n |      Returns\n |      -------\n |      r : ndarray\n |          The reduced array. If `out` was supplied, `r` is a reference to it.\n |      \n |      Examples\n |      --------\n |      >>> np.multiply.reduce([2,3,5])\n |      30\n |      \n |      A multi-dimensional array example:\n |      \n |      >>> X = np.arange(8).reshape((2,2,2))\n |      >>> X\n |      array([[[0, 1],\n |              [2, 3]],\n |             [[4, 5],\n |              [6, 7]]])\n |      >>> np.add.reduce(X, 0)\n |      array([[ 4,  6],\n |             [ 8, 10]])\n |      >>> np.add.reduce(X) # confirm: default axis value is 0\n |      array([[ 4,  6],\n |             [ 8, 10]])\n |      >>> np.add.reduce(X, 1)\n |      array([[ 2,  4],\n |             [10, 12]])\n |      >>> np.add.reduce(X, 2)\n |      array([[ 1,  5],\n |             [ 9, 13]])\n |      \n |      You can use the ``initial`` keyword argument to initialize the reduction\n |      with a different value, and ``where`` to select specific elements to include:\n |      \n |      >>> np.add.reduce([10], initial=5)\n |      15\n |      >>> np.add.reduce(np.ones((2, 2, 2)), axis=(0, 2), initial=10)\n |      array([14., 14.])\n |      >>> a = np.array([10., np.nan, 10])\n |      >>> np.add.reduce(a, where=~np.isnan(a))\n |      20.0\n |      \n |      Allows reductions of empty arrays where they would normally fail, i.e.\n |      for ufuncs without an identity.\n |      \n |      >>> np.minimum.reduce([], initial=np.inf)\n |      inf\n |      >>> np.minimum.reduce([[1., 2.], [3., 4.]], initial=10., where=[True, False])\n |      array([ 1., 10.])\n |      >>> np.minimum.reduce([])\n |      Traceback (most recent call last):\n |          ...\n |      ValueError: zero-size array to reduction operation minimum which has no identity\n |  \n |  reduceat(...)\n |      reduceat(a, indices, axis=0, dtype=None, out=None)\n |      \n |      Performs a (local) reduce with specified slices over a single axis.\n |      \n |      For i in ``range(len(indices))``, `reduceat` computes\n |      ``ufunc.reduce(a[indices[i]:indices[i+1]])``, which becomes the i-th\n |      generalized \"row\" parallel to `axis` in the final result (i.e., in a\n |      2-D array, for example, if `axis = 0`, it becomes the i-th row, but if\n |      `axis = 1`, it becomes the i-th column).  There are three exceptions to this:\n |      \n |      * when ``i = len(indices) - 1`` (so for the last index),\n |        ``indices[i+1] = a.shape[axis]``.\n |      * if ``indices[i] >= indices[i + 1]``, the i-th generalized \"row\" is\n |        simply ``a[indices[i]]``.\n |      * if ``indices[i] >= len(a)`` or ``indices[i] < 0``, an error is raised.\n |      \n |      The shape of the output depends on the size of `indices`, and may be\n |      larger than `a` (this happens if ``len(indices) > a.shape[axis]``).\n |      \n |      Parameters\n |      ----------\n |      a : array_like\n |          The array to act on.\n |      indices : array_like\n |          Paired indices, comma separated (not colon), specifying slices to\n |          reduce.\n |      axis : int, optional\n |          The axis along which to apply the reduceat.\n |      dtype : data-type code, optional\n |          The type used to represent the intermediate results. Defaults\n |          to the data type of the output array if this is provided, or\n |          the data type of the input array if no output array is provided.\n |      out : ndarray, None, or tuple of ndarray and None, optional\n |          A location into which the result is stored. If not provided or `None`,\n |          a freshly-allocated array is returned. For consistency with\n |          ``ufunc.__call__``, if given as a keyword, this may be wrapped in a\n |          1-element tuple.\n |      \n |          .. versionchanged:: 1.13.0\n |             Tuples are allowed for keyword argument.\n |      \n |      Returns\n |      -------\n |      r : ndarray\n |          The reduced values. If `out` was supplied, `r` is a reference to\n |          `out`.\n |      \n |      Notes\n |      -----\n |      A descriptive example:\n |      \n |      If `a` is 1-D, the function `ufunc.accumulate(a)` is the same as\n |      ``ufunc.reduceat(a, indices)[::2]`` where `indices` is\n |      ``range(len(array) - 1)`` with a zero placed\n |      in every other element:\n |      ``indices = zeros(2 * len(a) - 1)``, ``indices[1::2] = range(1, len(a))``.\n |      \n |      Don't be fooled by this attribute's name: `reduceat(a)` is not\n |      necessarily smaller than `a`.\n |      \n |      Examples\n |      --------\n |      To take the running sum of four successive values:\n |      \n |      >>> np.add.reduceat(np.arange(8),[0,4, 1,5, 2,6, 3,7])[::2]\n |      array([ 6, 10, 14, 18])\n |      \n |      A 2-D example:\n |      \n |      >>> x = np.linspace(0, 15, 16).reshape(4,4)\n |      >>> x\n |      array([[ 0.,   1.,   2.,   3.],\n |             [ 4.,   5.,   6.,   7.],\n |             [ 8.,   9.,  10.,  11.],\n |             [12.,  13.,  14.,  15.]])\n |      \n |      ::\n |      \n |       # reduce such that the result has the following five rows:\n |       # [row1 + row2 + row3]\n |       # [row4]\n |       # [row2]\n |       # [row3]\n |       # [row1 + row2 + row3 + row4]\n |      \n |      >>> np.add.reduceat(x, [0, 3, 1, 2, 0])\n |      array([[12.,  15.,  18.,  21.],\n |             [12.,  13.,  14.,  15.],\n |             [ 4.,   5.,   6.,   7.],\n |             [ 8.,   9.,  10.,  11.],\n |             [24.,  28.,  32.,  36.]])\n |      \n |      ::\n |      \n |       # reduce such that result has the following two columns:\n |       # [col1 * col2 * col3, col4]\n |      \n |      >>> np.multiply.reduceat(x, [0, 3], 1)\n |      array([[   0.,     3.],\n |             [ 120.,     7.],\n |             [ 720.,    11.],\n |             [2184.,    15.]])\n |  \n |  ----------------------------------------------------------------------\n |  Data descriptors defined here:\n |  \n |  identity\n |      The identity value.\n |      \n |      Data attribute containing the identity element for the ufunc, if it has one.\n |      If it does not, the attribute value is None.\n |      \n |      Examples\n |      --------\n |      >>> np.add.identity\n |      0\n |      >>> np.multiply.identity\n |      1\n |      >>> np.power.identity\n |      1\n |      >>> print(np.exp.identity)\n |      None\n |  \n |  nargs\n |      The number of arguments.\n |      \n |      Data attribute containing the number of arguments the ufunc takes, including\n |      optional ones.\n |      \n |      Notes\n |      -----\n |      Typically this value will be one more than what you might expect because all\n |      ufuncs take  the optional \"out\" argument.\n |      \n |      Examples\n |      --------\n |      >>> np.add.nargs\n |      3\n |      >>> np.multiply.nargs\n |      3\n |      >>> np.power.nargs\n |      3\n |      >>> np.exp.nargs\n |      2\n |  \n |  nin\n |      The number of inputs.\n |      \n |      Data attribute containing the number of arguments the ufunc treats as input.\n |      \n |      Examples\n |      --------\n |      >>> np.add.nin\n |      2\n |      >>> np.multiply.nin\n |      2\n |      >>> np.power.nin\n |      2\n |      >>> np.exp.nin\n |      1\n |  \n |  nout\n |      The number of outputs.\n |      \n |      Data attribute containing the number of arguments the ufunc treats as output.\n |      \n |      Notes\n |      -----\n |      Since all ufuncs can take output arguments, this will always be (at least) 1.\n |      \n |      Examples\n |      --------\n |      >>> np.add.nout\n |      1\n |      >>> np.multiply.nout\n |      1\n |      >>> np.power.nout\n |      1\n |      >>> np.exp.nout\n |      1\n |  \n |  ntypes\n |      The number of types.\n |      \n |      The number of numerical NumPy types - of which there are 18 total - on which\n |      the ufunc can operate.\n |      \n |      See Also\n |      --------\n |      numpy.ufunc.types\n |      \n |      Examples\n |      --------\n |      >>> np.add.ntypes\n |      18\n |      >>> np.multiply.ntypes\n |      18\n |      >>> np.power.ntypes\n |      17\n |      >>> np.exp.ntypes\n |      7\n |      >>> np.remainder.ntypes\n |      14\n |  \n |  signature\n |      Definition of the core elements a generalized ufunc operates on.\n |      \n |      The signature determines how the dimensions of each input/output array\n |      are split into core and loop dimensions:\n |      \n |      1. Each dimension in the signature is matched to a dimension of the\n |         corresponding passed-in array, starting from the end of the shape tuple.\n |      2. Core dimensions assigned to the same label in the signature must have\n |         exactly matching sizes, no broadcasting is performed.\n |      3. The core dimensions are removed from all inputs and the remaining\n |         dimensions are broadcast together, defining the loop dimensions.\n |      \n |      Notes\n |      -----\n |      Generalized ufuncs are used internally in many linalg functions, and in\n |      the testing suite; the examples below are taken from these.\n |      For ufuncs that operate on scalars, the signature is `None`, which is\n |      equivalent to '()' for every argument.\n |      \n |      Examples\n |      --------\n |      >>> np.core.umath_tests.matrix_multiply.signature\n |      '(m,n),(n,p)->(m,p)'\n |      >>> np.linalg._umath_linalg.det.signature\n |      '(m,m)->()'\n |      >>> np.add.signature is None\n |      True  # equivalent to '(),()->()'\n |  \n |  types\n |      Returns a list with types grouped input->output.\n |      \n |      Data attribute listing the data-type \"Domain-Range\" groupings the ufunc can\n |      deliver. The data-types are given using the character codes.\n |      \n |      See Also\n |      --------\n |      numpy.ufunc.ntypes\n |      \n |      Examples\n |      --------\n |      >>> np.add.types\n |      ['??->?', 'bb->b', 'BB->B', 'hh->h', 'HH->H', 'ii->i', 'II->I', 'll->l',\n |      'LL->L', 'qq->q', 'QQ->Q', 'ff->f', 'dd->d', 'gg->g', 'FF->F', 'DD->D',\n |      'GG->G', 'OO->O']\n |      \n |      >>> np.multiply.types\n |      ['??->?', 'bb->b', 'BB->B', 'hh->h', 'HH->H', 'ii->i', 'II->I', 'll->l',\n |      'LL->L', 'qq->q', 'QQ->Q', 'ff->f', 'dd->d', 'gg->g', 'FF->F', 'DD->D',\n |      'GG->G', 'OO->O']\n |      \n |      >>> np.power.types\n |      ['bb->b', 'BB->B', 'hh->h', 'HH->H', 'ii->i', 'II->I', 'll->l', 'LL->L',\n |      'qq->q', 'QQ->Q', 'ff->f', 'dd->d', 'gg->g', 'FF->F', 'DD->D', 'GG->G',\n |      'OO->O']\n |      \n |      >>> np.exp.types\n |      ['f->f', 'd->d', 'g->g', 'F->F', 'D->D', 'G->G', 'O->O']\n |      \n |      >>> np.remainder.types\n |      ['bb->b', 'BB->B', 'hh->h', 'HH->H', 'ii->i', 'II->I', 'll->l', 'LL->L',\n |      'qq->q', 'QQ->Q', 'ff->f', 'dd->d', 'gg->g', 'OO->O']\n\n"
     ]
    }
   ],
   "source": [
    "help(np.add)\n",
    "\n",
    "# --------\n",
    "%run `python -c \"import numpy; numpy.info(numpy.add)\n"
   ]
  },
  {
   "cell_type": "markdown",
   "metadata": {},
   "source": [
    "#### 6. Create a null vector of size 10 but the fifth value which is 1 (★☆☆)"
   ]
  },
  {
   "cell_type": "code",
   "execution_count": 80,
   "metadata": {},
   "outputs": [
    {
     "output_type": "stream",
     "name": "stdout",
     "text": [
      "[0. 0. 0. 0. 1. 0. 0. 0. 0. 0.]\n"
     ]
    }
   ],
   "source": [
    "Z = np.zeros(10) \n",
    "Z[4] = 1\n",
    "print(Z)"
   ]
  },
  {
   "cell_type": "markdown",
   "metadata": {},
   "source": [
    "#### 7. Create a vector with values ranging from 10 to 49 (★☆☆)"
   ]
  },
  {
   "cell_type": "code",
   "execution_count": 22,
   "metadata": {},
   "outputs": [
    {
     "output_type": "execute_result",
     "data": {
      "text/plain": [
       "array([10, 11, 12, 13, 14, 15, 16, 17, 18, 19, 20, 21, 22, 23, 24, 25, 26,\n",
       "       27, 28, 29, 30, 31, 32, 33, 34, 35, 36, 37, 38, 39, 40, 41, 42, 43,\n",
       "       44, 45, 46, 47, 48, 49])"
      ]
     },
     "metadata": {},
     "execution_count": 22
    }
   ],
   "source": [
    "Z = np.arange(10, 50)\n",
    "Z"
   ]
  },
  {
   "cell_type": "markdown",
   "metadata": {},
   "source": [
    "#### 8. Reverse a vector (first element becomes last) (★☆☆)"
   ]
  },
  {
   "cell_type": "code",
   "execution_count": 12,
   "metadata": {},
   "outputs": [
    {
     "output_type": "execute_result",
     "data": {
      "text/plain": [
       "array([9, 8, 7, 6, 5, 4, 3, 2, 1, 0])"
      ]
     },
     "metadata": {},
     "execution_count": 12
    }
   ],
   "source": [
    "Z = np.arange(10)\n",
    "Z = Z[::-1]\n",
    "Z"
   ]
  },
  {
   "cell_type": "markdown",
   "metadata": {},
   "source": [
    "#### 9. Create a 3x3 matrix with values ranging from 0 to 8 (★☆☆)"
   ]
  },
  {
   "cell_type": "code",
   "execution_count": 117,
   "metadata": {},
   "outputs": [
    {
     "output_type": "execute_result",
     "data": {
      "text/plain": [
       "array([[0, 1, 2],\n",
       "       [3, 4, 5],\n",
       "       [6, 7, 8]])"
      ]
     },
     "metadata": {},
     "execution_count": 117
    }
   ],
   "source": [
    "Z = np.array(np.arange(9))\n",
    "Z = Z.reshape((3,3))\n",
    "Z"
   ]
  },
  {
   "cell_type": "markdown",
   "metadata": {},
   "source": [
    "#### 10. Find indices of non-zero elements from [1,2,0,0,4,0] (★☆☆)"
   ]
  },
  {
   "cell_type": "code",
   "execution_count": 81,
   "metadata": {},
   "outputs": [
    {
     "output_type": "stream",
     "name": "stdout",
     "text": [
      "(array([0, 1, 4], dtype=int64),)\n"
     ]
    }
   ],
   "source": [
    "Z = np.array([1,2,0,0,4,0])\n",
    "Z != 0\n",
    "#----------->\n",
    "nz = np.nonzero([1,2,0,0,4,0])\n",
    "print(nz)"
   ]
  },
  {
   "cell_type": "markdown",
   "metadata": {},
   "source": [
    "#### 11. Create a 3x3 identity matrix (★☆☆)"
   ]
  },
  {
   "cell_type": "code",
   "execution_count": 21,
   "metadata": {},
   "outputs": [
    {
     "output_type": "execute_result",
     "data": {
      "text/plain": [
       "array([[1., 0., 0.],\n",
       "       [0., 1., 0.],\n",
       "       [0., 0., 1.]])"
      ]
     },
     "metadata": {},
     "execution_count": 21
    }
   ],
   "source": [
    "Z = np.eye(3)\n",
    "Z"
   ]
  },
  {
   "cell_type": "markdown",
   "metadata": {},
   "source": [
    "#### 12. Create a 3x3x3 array with random values (★☆☆)"
   ]
  },
  {
   "cell_type": "code",
   "execution_count": 26,
   "metadata": {},
   "outputs": [
    {
     "output_type": "execute_result",
     "data": {
      "text/plain": [
       "array([[[-0.44181292, -0.73884212,  0.77096027],\n",
       "        [ 0.12892573,  0.5946318 ,  1.33131127],\n",
       "        [-0.66883405,  0.83620433, -1.60237067]],\n",
       "\n",
       "       [[ 0.07173646, -1.18027333,  0.14100094],\n",
       "        [-0.02434583, -0.74895123, -0.38654738],\n",
       "        [-0.64525995, -0.74914885,  0.72429823]],\n",
       "\n",
       "       [[-0.28317592, -0.35451138,  2.34175283],\n",
       "        [ 0.03751649, -0.75123266, -0.34432712],\n",
       "        [-1.15930995,  0.34412116, -0.73849446]]])"
      ]
     },
     "metadata": {},
     "execution_count": 26
    }
   ],
   "source": [
    "np.random.randn(3,3,3)"
   ]
  },
  {
   "cell_type": "markdown",
   "metadata": {},
   "source": [
    "#### 13. Create a 10x10 array with random values and find the minimum and maximum values (★☆☆)"
   ]
  },
  {
   "source": [
    "Z = np.random.randn(10,10)\n",
    "print(Z.min(), Z.max())"
   ],
   "cell_type": "code",
   "metadata": {},
   "execution_count": 38,
   "outputs": [
    {
     "output_type": "stream",
     "name": "stdout",
     "text": [
      "-2.0932190560932122 2.1170385843156194\n"
     ]
    }
   ]
  },
  {
   "cell_type": "markdown",
   "metadata": {},
   "source": [
    "#### 14. Create a random vector of size 30 and find the mean value (★☆☆)"
   ]
  },
  {
   "cell_type": "code",
   "execution_count": 45,
   "metadata": {},
   "outputs": [
    {
     "output_type": "execute_result",
     "data": {
      "text/plain": [
       "0.18392819797612645"
      ]
     },
     "metadata": {},
     "execution_count": 45
    }
   ],
   "source": [
    "v = np.random.randn(30)\n",
    "v.mean()"
   ]
  },
  {
   "cell_type": "markdown",
   "metadata": {},
   "source": [
    "#### 15. Create a 2d array with 1 on the border and 0 inside (★☆☆)"
   ]
  },
  {
   "cell_type": "code",
   "execution_count": 83,
   "metadata": {},
   "outputs": [
    {
     "output_type": "stream",
     "name": "stdout",
     "text": [
      "[[1. 1. 1. 1. 1. 1. 1. 1. 1. 1.]\n [1. 0. 0. 0. 0. 0. 0. 0. 0. 1.]\n [1. 0. 0. 0. 0. 0. 0. 0. 0. 1.]\n [1. 0. 0. 0. 0. 0. 0. 0. 0. 1.]\n [1. 0. 0. 0. 0. 0. 0. 0. 0. 1.]\n [1. 0. 0. 0. 0. 0. 0. 0. 0. 1.]\n [1. 0. 0. 0. 0. 0. 0. 0. 0. 1.]\n [1. 0. 0. 0. 0. 0. 0. 0. 0. 1.]\n [1. 0. 0. 0. 0. 0. 0. 0. 0. 1.]\n [1. 1. 1. 1. 1. 1. 1. 1. 1. 1.]]\n"
     ]
    }
   ],
   "source": [
    "m = np.ones((3,3))\n",
    "m[1, 1] = 0\n",
    "m\n",
    "#---------->\n",
    "Z = np.ones((10,10))\n",
    "Z[1:-1,1:-1] = 0\n",
    "print(Z)"
   ]
  },
  {
   "cell_type": "markdown",
   "metadata": {},
   "source": [
    "#### 16. How to add a border (filled with 0's) around an existing array? (★☆☆)"
   ]
  },
  {
   "cell_type": "code",
   "execution_count": 84,
   "metadata": {},
   "outputs": [
    {
     "output_type": "stream",
     "name": "stdout",
     "text": [
      "[[0. 0. 0. 0. 0.]\n [0. 1. 1. 1. 0.]\n [0. 1. 1. 1. 0.]\n [0. 1. 1. 1. 0.]\n [0. 0. 0. 0. 0.]]\n"
     ]
    },
    {
     "output_type": "execute_result",
     "data": {
      "text/plain": [
       "array([[0., 0., 0., 0., 0., 0., 0.],\n",
       "       [0., 1., 1., 1., 1., 1., 0.],\n",
       "       [0., 1., 1., 1., 1., 1., 0.],\n",
       "       [0., 1., 1., 1., 1., 1., 0.],\n",
       "       [0., 1., 1., 1., 1., 1., 0.],\n",
       "       [0., 1., 1., 1., 1., 1., 0.],\n",
       "       [0., 0., 0., 0., 0., 0., 0.]])"
      ]
     },
     "metadata": {},
     "execution_count": 84
    }
   ],
   "source": [
    "m = np.ones((3,3))\n",
    "n = np.zeros((5,5))\n",
    "n[1:-1, 1:-1] = m\n",
    "print(n)\n",
    "\n",
    "Z = np.ones((5,5))\n",
    "Z = np.pad(Z, pad_width=1, mode='constant', constant_values=0)\n",
    "Z\n"
   ]
  },
  {
   "cell_type": "markdown",
   "metadata": {},
   "source": [
    "#### 17. What is the result of the following expression? (★☆☆)\n",
    "```python\n",
    "0 * np.nan\n",
    "np.nan == np.nan\n",
    "np.inf > np.nan\n",
    "np.nan - np.nan\n",
    "np.nan in set([np.nan])\n",
    "0.3 == 3 * 0.1\n",
    "```"
   ]
  },
  {
   "cell_type": "code",
   "execution_count": 98,
   "metadata": {},
   "outputs": [
    {
     "output_type": "stream",
     "name": "stdout",
     "text": [
      "nan\nFalse\nFalse\nnan\nTrue\nFalse\nprint(0 * np.nan)\nprint(np.nan == np.nan)\nprint(np.inf > np.nan)\nprint(np.nan - np.nan)\nprint(np.nan in set([np.nan]))\nprint(0.3 == 3 * 0.1)\n"
     ]
    }
   ],
   "source": [
    "print(0* np.nan)\n",
    "print(np.nan == np.nan)\n",
    "print(np.inf > np.nan)\n",
    "print(np.nan - np.nan)\n",
    "print(np.nan in set([np.nan]))\n",
    "print(0.3 == 3 * 0.1)\n"
   ]
  },
  {
   "cell_type": "markdown",
   "metadata": {},
   "source": [
    "#### 18. Create a 5x5 matrix with values 1,2,3,4 just below the diagonal (★☆☆)"
   ]
  },
  {
   "cell_type": "code",
   "execution_count": 85,
   "metadata": {},
   "outputs": [
    {
     "output_type": "stream",
     "name": "stdout",
     "text": [
      "[[0. 0. 0. 0. 0.]\n [1. 0. 0. 0. 0.]\n [0. 2. 0. 0. 0.]\n [0. 0. 3. 0. 0.]\n [0. 0. 0. 4. 0.]]\n"
     ]
    },
    {
     "output_type": "execute_result",
     "data": {
      "text/plain": [
       "array([[0, 0, 0, 0, 0],\n",
       "       [1, 0, 0, 0, 0],\n",
       "       [0, 2, 0, 0, 0],\n",
       "       [0, 0, 3, 0, 0],\n",
       "       [0, 0, 0, 4, 0]])"
      ]
     },
     "metadata": {},
     "execution_count": 85
    }
   ],
   "source": [
    "m = np.zeros((5,5))\n",
    "n = np.eye(4)\n",
    "m[1:,:-1] = m[1:,:-1]+n*[1,2,3,4]\n",
    "print(m)\n",
    "\n",
    "Z = np.diag(1+np.arange(4),k=-1)\n",
    "Z"
   ]
  },
  {
   "cell_type": "markdown",
   "metadata": {},
   "source": [
    "m#### 19. Create a 8x8 matrix and fill it with a checkerboard pattern (★☆☆)"
   ]
  },
  {
   "cell_type": "code",
   "execution_count": 28,
   "metadata": {},
   "outputs": [
    {
     "output_type": "execute_result",
     "data": {
      "text/plain": [
       "array([[0, 1, 0, 1, 0, 1, 0, 1],\n",
       "       [0, 1, 0, 1, 0, 1, 0, 1],\n",
       "       [0, 1, 0, 1, 0, 1, 0, 1],\n",
       "       [0, 1, 0, 1, 0, 1, 0, 1]])"
      ]
     },
     "metadata": {},
     "execution_count": 28
    }
   ],
   "source": [
    "A = np.zeros((4, 8))\n",
    "B = np.zeros((4, 8))\n",
    "M = np.array([0,1]*32).reshape(8,8)\n",
    "idx = np.array()\n",
    "\n",
    "#m = np.zeros(64)\n"
   ]
  },
  {
   "cell_type": "markdown",
   "metadata": {},
   "source": [
    "#### 20. Consider a (6,7,8) shape array, what is the index (x,y,z) of the 100th element?"
   ]
  },
  {
   "cell_type": "code",
   "execution_count": 36,
   "metadata": {},
   "outputs": [
    {
     "output_type": "execute_result",
     "data": {
      "text/plain": [
       "array([[[-0.04343252,  0.12475789,  0.65302584, -1.02592054,\n",
       "         -0.11913076, -0.06282628,  0.90281119, -0.36808352],\n",
       "        [-0.88229078,  0.3443434 , -1.56994283,  0.3749136 ,\n",
       "         -1.71799384, -0.02189015, -0.45281136,  1.57872928],\n",
       "        [ 0.74168621,  1.37669066, -0.76521139, -0.20923182,\n",
       "         -1.35067397,  0.99944698, -0.05194279,  0.29013187],\n",
       "        [-0.45686745, -0.03888092,  0.02298751,  1.54298403,\n",
       "         -0.31155748, -1.41905917,  0.72131086, -1.78069069],\n",
       "        [ 0.12830512, -1.224957  ,  1.27553946, -0.35556475,\n",
       "         -0.14212259, -0.38046168,  0.60744728, -0.37453615],\n",
       "        [ 0.14926121, -1.02548685, -0.21218564,  0.23558458,\n",
       "          1.0103363 ,  0.49678699, -0.38061041,  0.82655648],\n",
       "        [ 1.09309188, -0.90507013, -1.9628424 ,  0.85421429,\n",
       "         -1.20918259, -0.3751934 , -0.12134247, -1.34790868]]])"
      ]
     },
     "metadata": {},
     "execution_count": 36
    }
   ],
   "source": [
    "Z = np.random.randn(6,7,8)\n",
    "Z[::100]"
   ]
  },
  {
   "cell_type": "markdown",
   "metadata": {},
   "source": [
    "#### 21. Create a checkerboard 8x8 matrix using the tile function (★☆☆)"
   ]
  },
  {
   "cell_type": "code",
   "execution_count": null,
   "metadata": {},
   "outputs": [],
   "source": []
  },
  {
   "cell_type": "markdown",
   "metadata": {},
   "source": [
    "#### 22. Normalize a 5x5 random matrix (★☆☆)"
   ]
  },
  {
   "cell_type": "code",
   "execution_count": 87,
   "metadata": {},
   "outputs": [
    {
     "output_type": "stream",
     "name": "stdout",
     "text": [
      "[[-6.48704643  0.15570476 -0.2651725  -0.66009487 -0.02993715]\n [ 2.44515505 -6.13622616  1.24204911  1.99713192 -0.3132316 ]\n [-4.29722683  6.40778555  0.92611318  1.8838901   0.45850273]\n [ 6.88813463 -0.7820369  -2.24173389  0.02380043  0.83237176]\n [ 2.45098358  1.35477275  1.3387441  -2.24472758  0.05229425]]\n"
     ]
    },
    {
     "output_type": "execute_result",
     "data": {
      "text/plain": [
       "array([[ 1.88596252, -0.12359389, -0.21698572, -0.5018211 , -0.1373509 ],\n",
       "       [-0.83273708,  1.29437644,  0.51329668,  1.16199723, -0.59959025],\n",
       "       [ 1.2194458 , -1.53258345,  0.36021869,  1.09109105,  0.65961541],\n",
       "       [-2.18504947,  0.08773867, -1.17467369, -0.07360115,  1.26964139],\n",
       "       [-0.83451111, -0.39381981,  0.56014756, -1.49403635, -0.00317747]])"
      ]
     },
     "metadata": {},
     "execution_count": 87
    }
   ],
   "source": [
    "Z = np.random.randn(5,5)\n",
    "print(Z/sum(Z))\n",
    "\n",
    "\n",
    "# --------->\n",
    "Z = (Z - np.mean (Z)) / (np.std (Z))\n",
    "Z"
   ]
  },
  {
   "cell_type": "markdown",
   "metadata": {},
   "source": [
    "#### 23. Create a custom dtype that describes a color as four unsigned bytes (RGBA) (★☆☆)"
   ]
  },
  {
   "cell_type": "code",
   "execution_count": 123,
   "metadata": {},
   "outputs": [
    {
     "output_type": "execute_result",
     "data": {
      "text/plain": [
       "array([1])"
      ]
     },
     "metadata": {},
     "execution_count": 123
    }
   ],
   "source": [
    "np.array([1], dtype='int32')"
   ]
  },
  {
   "cell_type": "markdown",
   "metadata": {},
   "source": [
    "#### 24. Multiply a 5x3 matrix by a 3x2 matrix (real matrix product) (★☆☆)"
   ]
  },
  {
   "cell_type": "code",
   "execution_count": 88,
   "metadata": {},
   "outputs": [
    {
     "output_type": "stream",
     "name": "stdout",
     "text": [
      "[[-0.57355307 -1.43091249]\n [ 0.23585284 -1.12765414]\n [ 1.77421375  4.86012783]\n [-0.76538597 -1.57587478]\n [-0.71953505 -4.89391272]]\n[[-0.57355307 -1.43091249]\n [ 0.23585284 -1.12765414]\n [ 1.77421375  4.86012783]\n [-0.76538597 -1.57587478]\n [-0.71953505 -4.89391272]]\n"
     ]
    }
   ],
   "source": [
    "m1 = np.random.randn(5,3)\n",
    "m2 = np.random.randn(3,2)\n",
    "#m1.mat(m2)\n",
    "print(np.matmul(m1, m2))\n",
    "\n",
    "#------------>\n",
    "\n",
    "Z = np.dot(m1, m2)\n",
    "print(Z)\n"
   ]
  },
  {
   "cell_type": "markdown",
   "metadata": {},
   "source": [
    "#### 25. Given a 1D array, negate all elements which are between 3 and 8, in place. (★☆☆)"
   ]
  },
  {
   "cell_type": "code",
   "execution_count": 90,
   "metadata": {},
   "outputs": [
    {
     "output_type": "stream",
     "name": "stdout",
     "text": [
      "[ 0  1 -2 -3 -4 -5 -6 -7 -8  9]\n[ 0  1 -2 -3 -4 -5 -6 -7 -8  9]\n"
     ]
    }
   ],
   "source": [
    "Z = np.arange(10)\n",
    "Z[2:9] = Z[2:9] * -1\n",
    "print(Z)\n",
    "\n",
    "#--------->\n",
    "Z[(3 < Z) & (Z < 8)] *= -1\n",
    "print(Z)"
   ]
  },
  {
   "cell_type": "markdown",
   "metadata": {},
   "source": [
    "#### 26. What is the output of the following script? (★☆☆)\n",
    "```python\n",
    "# Author: Jake VanderPlas\n",
    "\n",
    "print(sum(range(5),-1))\n",
    "from numpy import *\n",
    "print(sum(range(5),-1))\n",
    "```"
   ]
  },
  {
   "cell_type": "code",
   "execution_count": 139,
   "metadata": {},
   "outputs": [],
   "source": [
    "#print(np.sum((range(5), -1)))"
   ]
  },
  {
   "cell_type": "markdown",
   "metadata": {},
   "source": [
    "#### 27. Consider an integer vector Z, which of these expressions are legal? (★☆☆)\n",
    "```python\n",
    "Z**Z\n",
    "2 << Z >> 2\n",
    "Z <- Z\n",
    "1j*Z\n",
    "Z/1/1\n",
    "Z<Z>Z\n",
    "```"
   ]
  },
  {
   "cell_type": "code",
   "execution_count": 77,
   "metadata": {},
   "outputs": [
    {
     "output_type": "stream",
     "name": "stdout",
     "text": [
      "[[       nan        nan 2.57544419        nan 0.82889336 0.84587756\n  0.70556519 0.852227   0.98175794 0.8932999 ]\n [0.76342615 2.22849409        nan 0.72809447        nan        nan\n  0.72497672 1.10901967        nan 2.56196664]\n [       nan 1.16111594        nan        nan        nan 0.82928313\n         nan        nan 0.69306892        nan]\n [       nan        nan        nan        nan        nan 2.5724509\n         nan 3.29612355 0.85355013 1.25626828]\n [       nan 0.69269634 0.86844088        nan        nan        nan\n  1.02366334 1.02264028        nan 0.75088499]\n [       nan 1.2532519  1.04109111 0.70927113        nan 0.78089806\n         nan 0.71955407        nan 1.41931317]\n [1.63899552        nan        nan        nan        nan        nan\n  2.01071038 0.69250503 1.39351556        nan]\n [0.76625955 2.06028147 1.11528691        nan 0.74451908        nan\n         nan        nan        nan        nan]\n [4.8930582  0.75940596        nan 0.73178547        nan 1.54840066\n  0.71685052        nan 0.69916236        nan]\n [0.79778714        nan        nan        nan 1.66128213 0.69977402\n         nan        nan        nan 0.82467507]]\n[[ True  True False  True False False False False False False]\n [False False  True False  True  True False False  True False]\n [ True False  True  True  True False  True  True False  True]\n [ True  True  True  True  True False  True False False False]\n [ True False False  True  True  True False False  True False]\n [ True False False False  True False  True False  True False]\n [False  True  True  True  True  True False False False  True]\n [False False False  True False  True  True  True  True  True]\n [False False  True False  True False False  True False  True]\n [False  True  True  True False False  True  True  True False]]\n[[-0.39898318 -0.14264254  1.72856044 -0.32063479  0.07091701  0.05921757\n   0.49271354  0.82351803  0.98141574  0.87961057]\n [ 0.13460558  1.63331676 -0.16744507  0.57694518 -0.38188599 -0.95014994\n   0.19955475  1.09875336 -1.1620012   1.7251673 ]\n [-0.92887008  1.14000826 -0.40546866 -1.21399405 -1.39310154  0.78872554\n  -1.28796264 -0.49173327  0.39866477 -0.07006662]\n [-0.39276719 -0.85056921 -0.42632513 -0.21480862 -1.77871328  1.72780875\n  -0.07458203  1.88364906  0.82544041  1.20789452]\n [-1.26459541  0.39106724  0.84651115 -1.68054505 -0.06234953 -2.09321906\n   1.02312242  1.02214439 -1.53089376  0.63840891]\n [-0.46588443  1.20587106  1.03949928  0.24239129 -1.51283735  0.70365642\n  -0.54311014  0.54921968 -1.27139493  1.30719259]\n [ 1.41714801 -0.83733285 -1.34682743 -1.11697931 -0.44896103 -0.57799533\n   1.56330501  0.38601112  1.29266094 -0.64979095]\n [ 0.67346393  1.5800764   1.10389261 -0.15706942  0.6226054  -0.16620978\n  -0.4324201  -0.0760776  -0.32737557 -0.32668018]\n [ 2.11703858  0.65832207 -0.43126337  0.58795047 -0.18470851  1.37450593\n   0.53961553 -0.74471464  0.45696112 -0.9099242 ]\n [ 0.73555143 -0.22749728 -0.23857721 -0.17649058  1.42713653  0.28210776\n  -1.76170968 -0.4815152  -0.03187447  0.78137428]]\n"
     ]
    },
    {
     "output_type": "execute_result",
     "data": {
      "text/plain": [
       "array([[-0.-0.39898318j, -0.-0.14264254j,  0.+1.72856044j,\n",
       "        -0.-0.32063479j,  0.+0.07091701j,  0.+0.05921757j,\n",
       "         0.+0.49271354j,  0.+0.82351803j,  0.+0.98141574j,\n",
       "         0.+0.87961057j],\n",
       "       [ 0.+0.13460558j,  0.+1.63331676j, -0.-0.16744507j,\n",
       "         0.+0.57694518j, -0.-0.38188599j, -0.-0.95014994j,\n",
       "         0.+0.19955475j,  0.+1.09875336j, -0.-1.1620012j ,\n",
       "         0.+1.7251673j ],\n",
       "       [-0.-0.92887008j,  0.+1.14000826j, -0.-0.40546866j,\n",
       "        -0.-1.21399405j, -0.-1.39310154j,  0.+0.78872554j,\n",
       "        -0.-1.28796264j, -0.-0.49173327j,  0.+0.39866477j,\n",
       "        -0.-0.07006662j],\n",
       "       [-0.-0.39276719j, -0.-0.85056921j, -0.-0.42632513j,\n",
       "        -0.-0.21480862j, -0.-1.77871328j,  0.+1.72780875j,\n",
       "        -0.-0.07458203j,  0.+1.88364906j,  0.+0.82544041j,\n",
       "         0.+1.20789452j],\n",
       "       [-0.-1.26459541j,  0.+0.39106724j,  0.+0.84651115j,\n",
       "        -0.-1.68054505j, -0.-0.06234953j, -0.-2.09321906j,\n",
       "         0.+1.02312242j,  0.+1.02214439j, -0.-1.53089376j,\n",
       "         0.+0.63840891j],\n",
       "       [-0.-0.46588443j,  0.+1.20587106j,  0.+1.03949928j,\n",
       "         0.+0.24239129j, -0.-1.51283735j,  0.+0.70365642j,\n",
       "        -0.-0.54311014j,  0.+0.54921968j, -0.-1.27139493j,\n",
       "         0.+1.30719259j],\n",
       "       [ 0.+1.41714801j, -0.-0.83733285j, -0.-1.34682743j,\n",
       "        -0.-1.11697931j, -0.-0.44896103j, -0.-0.57799533j,\n",
       "         0.+1.56330501j,  0.+0.38601112j,  0.+1.29266094j,\n",
       "        -0.-0.64979095j],\n",
       "       [ 0.+0.67346393j,  0.+1.5800764j ,  0.+1.10389261j,\n",
       "        -0.-0.15706942j,  0.+0.6226054j , -0.-0.16620978j,\n",
       "        -0.-0.4324201j , -0.-0.0760776j , -0.-0.32737557j,\n",
       "        -0.-0.32668018j],\n",
       "       [ 0.+2.11703858j,  0.+0.65832207j, -0.-0.43126337j,\n",
       "         0.+0.58795047j, -0.-0.18470851j,  0.+1.37450593j,\n",
       "         0.+0.53961553j, -0.-0.74471464j,  0.+0.45696112j,\n",
       "        -0.-0.9099242j ],\n",
       "       [ 0.+0.73555143j, -0.-0.22749728j, -0.-0.23857721j,\n",
       "        -0.-0.17649058j,  0.+1.42713653j,  0.+0.28210776j,\n",
       "        -0.-1.76170968j, -0.-0.4815152j , -0.-0.03187447j,\n",
       "         0.+0.78137428j]])"
      ]
     },
     "metadata": {},
     "execution_count": 77
    }
   ],
   "source": [
    "print(Z**Z)\n",
    "print(Z <- Z)\n",
    "print(Z/1/1)\n",
    "1j*Z"
   ]
  },
  {
   "cell_type": "markdown",
   "metadata": {},
   "source": [
    "#### 28. What are the result of the following expressions?\n",
    "```python\n",
    "np.array(0) / np.array(0)\n",
    "np.array(0) // np.array(0)\n",
    "np.array([np.nan]).astype(int).astype(float)\n",
    "```"
   ]
  },
  {
   "cell_type": "code",
   "execution_count": 143,
   "metadata": {},
   "outputs": [
    {
     "output_type": "stream",
     "name": "stdout",
     "text": [
      "nan\n0\n[-2.14748365e+09]\n"
     ]
    }
   ],
   "source": [
    "print(np.array(0) / np.array(0))\n",
    "print(np.array(0) // np.array(0))\n",
    "print(np.array([np.nan]).astype(int).astype(float))\n",
    "\n"
   ]
  },
  {
   "cell_type": "markdown",
   "metadata": {},
   "source": [
    "#### 29. How to round away from zero a float array ? (★☆☆)"
   ]
  },
  {
   "cell_type": "code",
   "execution_count": null,
   "metadata": {},
   "outputs": [],
   "source": []
  },
  {
   "cell_type": "markdown",
   "metadata": {},
   "source": [
    "#### 30. How to find common values between two arrays? (★☆☆)"
   ]
  },
  {
   "cell_type": "code",
   "execution_count": 38,
   "metadata": {},
   "outputs": [
    {
     "output_type": "stream",
     "name": "stdout",
     "text": [
      "[0 1 2 3] [0. 0. 0. 0.]\n"
     ]
    },
    {
     "output_type": "execute_result",
     "data": {
      "text/plain": [
       "array([ True, False, False, False])"
      ]
     },
     "metadata": {},
     "execution_count": 38
    }
   ],
   "source": [
    "Z = np.zeros(4)\n",
    "A = np.arange(4)\n",
    "print(A, Z)\n",
    "\n",
    "Z == A"
   ]
  },
  {
   "cell_type": "markdown",
   "metadata": {},
   "source": [
    "#### 31. How to ignore all numpy warnings (not recommended)? (★☆☆)"
   ]
  },
  {
   "cell_type": "code",
   "execution_count": null,
   "metadata": {},
   "outputs": [],
   "source": []
  },
  {
   "cell_type": "markdown",
   "metadata": {},
   "source": [
    "#### 32. Is the following expressions true? (★☆☆)\n",
    "```python\n",
    "np.sqrt(-1) == np.emath.sqrt(-1)\n",
    "```"
   ]
  },
  {
   "cell_type": "code",
   "execution_count": 81,
   "metadata": {},
   "outputs": [
    {
     "output_type": "stream",
     "name": "stdout",
     "text": [
      "np.sqrt(-1) == np.emath.sqrt(-1)\n"
     ]
    }
   ],
   "source": [
    "np.sqrt(-1) == np.emath.sqrt(-1)"
   ]
  },
  {
   "cell_type": "markdown",
   "metadata": {},
   "source": [
    "#### 33. How to get the dates of yesterday, today and tomorrow? (★☆☆)"
   ]
  },
  {
   "cell_type": "code",
   "execution_count": null,
   "metadata": {},
   "outputs": [],
   "source": []
  },
  {
   "cell_type": "markdown",
   "metadata": {},
   "source": [
    "#### 34. How to get all the dates corresponding to the month of July 2016? (★★☆)"
   ]
  },
  {
   "cell_type": "code",
   "execution_count": null,
   "metadata": {},
   "outputs": [],
   "source": []
  },
  {
   "cell_type": "markdown",
   "metadata": {},
   "source": [
    "#### 35. How to compute ((A+B)*(-A/2)) in place (without copy)? (★★☆)"
   ]
  },
  {
   "cell_type": "code",
   "execution_count": 41,
   "metadata": {},
   "outputs": [
    {
     "output_type": "execute_result",
     "data": {
      "text/plain": [
       "array([-4., -4.])"
      ]
     },
     "metadata": {},
     "execution_count": 41
    }
   ],
   "source": [
    "A = np.array((2,2))\n",
    "B = np.array((2,2))\n",
    "(A+B)*(-A/2)"
   ]
  },
  {
   "cell_type": "markdown",
   "metadata": {},
   "source": [
    "#### 36. Extract the integer part of a random array of positive numbers using 4 different methods (★★☆)"
   ]
  },
  {
   "cell_type": "code",
   "execution_count": 45,
   "metadata": {},
   "outputs": [
    {
     "output_type": "execute_result",
     "data": {
      "text/plain": [
       "array([0.36055203, 0.78423118, 0.13956528, 0.85498108, 0.30140158,\n",
       "       0.88429377, 0.80292093, 0.04344034, 0.92808622, 0.32323034])"
      ]
     },
     "metadata": {},
     "execution_count": 45
    }
   ],
   "source": [
    "np.random.rand(10)"
   ]
  },
  {
   "cell_type": "markdown",
   "metadata": {},
   "source": [
    "#### 37. Create a 5x5 matrix with row values ranging from 0 to 4 (★★☆)"
   ]
  },
  {
   "cell_type": "code",
   "execution_count": 56,
   "metadata": {},
   "outputs": [
    {
     "output_type": "execute_result",
     "data": {
      "text/plain": [
       "array([[0, 3, 3, 1, 1],\n",
       "       [3, 1, 3, 0, 1],\n",
       "       [3, 2, 1, 2, 1],\n",
       "       [0, 1, 1, 3, 0],\n",
       "       [3, 2, 1, 1, 1]])"
      ]
     },
     "metadata": {},
     "execution_count": 56
    }
   ],
   "source": [
    "Z = np.random.randint(0, 4, (5,5))\n",
    "Z"
   ]
  },
  {
   "cell_type": "markdown",
   "metadata": {},
   "source": [
    "#### 38. Consider a generator function that generates 10 integers and use it to build an array (★☆☆)"
   ]
  },
  {
   "cell_type": "code",
   "execution_count": 157,
   "metadata": {},
   "outputs": [],
   "source": []
  },
  {
   "cell_type": "markdown",
   "metadata": {},
   "source": [
    "#### 39. Create a vector of size 10 with values ranging from 0 to 1, both excluded (★★☆)"
   ]
  },
  {
   "cell_type": "code",
   "execution_count": 57,
   "metadata": {},
   "outputs": [
    {
     "output_type": "execute_result",
     "data": {
      "text/plain": [
       "array([0.57359249, 0.77965739, 0.00982222, 0.84863709, 0.61522063,\n",
       "       0.15622728, 0.77201712, 0.03313074, 0.94953233, 0.65907961])"
      ]
     },
     "metadata": {},
     "execution_count": 57
    }
   ],
   "source": [
    "Z = np.random.random_sample(10)\n"
   ]
  },
  {
   "cell_type": "markdown",
   "metadata": {},
   "source": [
    "#### 40. Create a random vector of size 10 and sort it (★★☆)"
   ]
  },
  {
   "cell_type": "code",
   "execution_count": 92,
   "metadata": {},
   "outputs": [
    {
     "output_type": "stream",
     "name": "stdout",
     "text": [
      "[-2.12899037 -1.99736508 -1.16631545 -1.00859969 -0.5601631  -0.46109621\n  0.16734875  0.18131872  0.39244215  0.60019416]\n[-2.12899037 -1.99736508 -1.16631545 -1.00859969 -0.5601631  -0.46109621\n  0.16734875  0.18131872  0.39244215  0.60019416]\n"
     ]
    }
   ],
   "source": [
    "Z = np.random.randn(10)\n",
    "print(np.sort(Z))\n",
    "\n",
    "# ------->\n",
    "Z.sort()\n",
    "print(Z)"
   ]
  },
  {
   "cell_type": "markdown",
   "metadata": {},
   "source": [
    "#### 41. How to sum a small array faster than np.sum? (★★☆)"
   ]
  },
  {
   "cell_type": "code",
   "execution_count": null,
   "metadata": {},
   "outputs": [],
   "source": []
  },
  {
   "cell_type": "markdown",
   "metadata": {},
   "source": [
    "#### 42. Consider two random array A and B, check if they are equal (★★☆)"
   ]
  },
  {
   "cell_type": "code",
   "execution_count": 103,
   "metadata": {},
   "outputs": [
    {
     "output_type": "execute_result",
     "data": {
      "text/plain": [
       "False"
      ]
     },
     "metadata": {},
     "execution_count": 103
    }
   ],
   "source": [
    "A = np.random.randn(3)\n",
    "B = np.random.randn(3)\n",
    "np.any(A==B)"
   ]
  },
  {
   "cell_type": "markdown",
   "metadata": {},
   "source": [
    "#### 43. Make an array immutable (read-only) (★★☆)"
   ]
  },
  {
   "cell_type": "code",
   "execution_count": null,
   "metadata": {},
   "outputs": [],
   "source": []
  },
  {
   "cell_type": "markdown",
   "metadata": {},
   "source": [
    "#### 44. Consider a random 10x2 matrix representing cartesian coordinates, convert them to polar coordinates (★★☆)"
   ]
  },
  {
   "cell_type": "code",
   "execution_count": null,
   "metadata": {},
   "outputs": [],
   "source": []
  },
  {
   "cell_type": "markdown",
   "metadata": {},
   "source": [
    "#### 45. Create random vector of size 10 and replace the maximum value by 0 (★★☆)"
   ]
  },
  {
   "cell_type": "code",
   "execution_count": 97,
   "metadata": {},
   "outputs": [
    {
     "output_type": "stream",
     "name": "stdout",
     "text": [
      "[0 1 2 3 4 5 6 7 8 0]\n[0 1 2 3 4 5 6 7 0 0]\n"
     ]
    }
   ],
   "source": [
    "Z = np.arange(10)\n",
    "Z[Z == Z.max()] = 0\n",
    "print(Z)\n",
    "\n",
    "#------------>\n",
    "Z[Z.argmax()] = 0\n",
    "print(Z)"
   ]
  },
  {
   "cell_type": "markdown",
   "metadata": {},
   "source": [
    "#### 46. Create a structured array with `x` and `y` coordinates covering the [0,1]x[0,1] area (★★☆)"
   ]
  },
  {
   "cell_type": "code",
   "execution_count": null,
   "metadata": {},
   "outputs": [],
   "source": []
  },
  {
   "cell_type": "markdown",
   "metadata": {},
   "source": [
    "#### 47. Given two arrays, X and Y, construct the Cauchy matrix C (Cij =1/(xi - yj))"
   ]
  },
  {
   "cell_type": "code",
   "execution_count": null,
   "metadata": {},
   "outputs": [],
   "source": []
  },
  {
   "cell_type": "markdown",
   "metadata": {},
   "source": [
    "#### 48. Print the minimum and maximum representable value for each numpy scalar type (★★☆)"
   ]
  },
  {
   "cell_type": "code",
   "execution_count": null,
   "metadata": {},
   "outputs": [],
   "source": []
  },
  {
   "cell_type": "markdown",
   "metadata": {},
   "source": [
    "#### 49. How to print all the values of an array? (★★☆)"
   ]
  },
  {
   "cell_type": "code",
   "execution_count": null,
   "metadata": {},
   "outputs": [],
   "source": []
  },
  {
   "cell_type": "markdown",
   "metadata": {},
   "source": [
    "#### 50. How to find the closest value (to a given scalar) in a vector? (★★☆)"
   ]
  },
  {
   "cell_type": "code",
   "execution_count": null,
   "metadata": {},
   "outputs": [],
   "source": []
  },
  {
   "cell_type": "markdown",
   "metadata": {},
   "source": [
    "#### 51. Create a structured array representing a position (x,y) and a color (r,g,b) (★★☆)"
   ]
  },
  {
   "cell_type": "code",
   "execution_count": null,
   "metadata": {},
   "outputs": [],
   "source": []
  },
  {
   "cell_type": "markdown",
   "metadata": {},
   "source": [
    "#### 52. Consider a random vector with shape (100,2) representing coordinates, find point by point distances (★★☆)"
   ]
  },
  {
   "cell_type": "code",
   "execution_count": null,
   "metadata": {},
   "outputs": [],
   "source": []
  },
  {
   "cell_type": "markdown",
   "metadata": {},
   "source": [
    "#### 53. How to convert a float (32 bits) array into an integer (32 bits) in place?"
   ]
  },
  {
   "cell_type": "code",
   "execution_count": null,
   "metadata": {},
   "outputs": [],
   "source": []
  },
  {
   "cell_type": "markdown",
   "metadata": {},
   "source": [
    "#### 54. How to read the following file? (★★☆)\n",
    "```\n",
    "1, 2, 3, 4, 5\n",
    "6,  ,  , 7, 8\n",
    " ,  , 9,10,11\n",
    "```"
   ]
  },
  {
   "cell_type": "code",
   "execution_count": null,
   "metadata": {},
   "outputs": [],
   "source": []
  },
  {
   "cell_type": "markdown",
   "metadata": {},
   "source": [
    "#### 55. What is the equivalent of enumerate for numpy arrays? (★★☆)"
   ]
  },
  {
   "cell_type": "code",
   "execution_count": null,
   "metadata": {},
   "outputs": [],
   "source": []
  },
  {
   "cell_type": "markdown",
   "metadata": {},
   "source": [
    "#### 56. Generate a generic 2D Gaussian-like array (★★☆)"
   ]
  },
  {
   "cell_type": "code",
   "execution_count": null,
   "metadata": {},
   "outputs": [],
   "source": []
  },
  {
   "cell_type": "markdown",
   "metadata": {},
   "source": [
    "#### 57. How to randomly place p elements in a 2D array? (★★☆)"
   ]
  },
  {
   "cell_type": "code",
   "execution_count": null,
   "metadata": {},
   "outputs": [],
   "source": []
  },
  {
   "cell_type": "markdown",
   "metadata": {},
   "source": [
    "#### 58. Subtract the mean of each row of a matrix (★★☆)"
   ]
  },
  {
   "cell_type": "code",
   "execution_count": 93,
   "metadata": {},
   "outputs": [
    {
     "output_type": "execute_result",
     "data": {
      "text/plain": [
       "array([[ 0.46401246,  1.199054  , -0.10183036, -1.10946629,  1.00572969],\n",
       "       [-1.144753  ,  0.20082543, -0.06138012, -1.0680823 ,  2.13693402],\n",
       "       [-0.49243566, -0.76265731,  2.00225646, -1.17552072, -1.26003751],\n",
       "       [ 1.19859924,  0.26851557, -0.94059357,  1.60675504, -0.27065349],\n",
       "       [-0.40836343, -0.41697801, -1.03633927, -2.22611992, -1.90550172]])"
      ]
     },
     "metadata": {},
     "execution_count": 93
    }
   ],
   "source": [
    "Z = np.random.randn(5,5)\n",
    "Z"
   ]
  },
  {
   "cell_type": "markdown",
   "metadata": {},
   "source": [
    "#### 59. How to sort an array by the nth column? (★★☆)"
   ]
  },
  {
   "cell_type": "code",
   "execution_count": null,
   "metadata": {},
   "outputs": [],
   "source": []
  },
  {
   "cell_type": "markdown",
   "metadata": {},
   "source": [
    "#### 60. How to tell if a given 2D array has null columns? (★★☆)"
   ]
  },
  {
   "cell_type": "code",
   "execution_count": 100,
   "metadata": {},
   "outputs": [
    {
     "output_type": "stream",
     "name": "stdout",
     "text": [
      "[]\nFalse\n"
     ]
    }
   ],
   "source": [
    "Z = np.random.rand(2,2)\n",
    "print(Z[:,0] == np.nan)\n",
    "\n",
    "print((~Z.any(axis=0)).any())\n"
   ]
  },
  {
   "cell_type": "markdown",
   "metadata": {},
   "source": [
    "#### 61. Find the nearest value from a given value in an array (★★☆)"
   ]
  },
  {
   "cell_type": "code",
   "execution_count": null,
   "metadata": {},
   "outputs": [],
   "source": []
  },
  {
   "cell_type": "markdown",
   "metadata": {},
   "source": [
    "#### 62. Considering two arrays with shape (1,3) and (3,1), how to compute their sum using an iterator? (★★☆)"
   ]
  },
  {
   "cell_type": "code",
   "execution_count": null,
   "metadata": {},
   "outputs": [],
   "source": []
  },
  {
   "cell_type": "markdown",
   "metadata": {},
   "source": [
    "#### 63. Create an array class that has a name attribute (★★☆)"
   ]
  },
  {
   "cell_type": "code",
   "execution_count": null,
   "metadata": {},
   "outputs": [],
   "source": [
    "Class Array:\n",
    "    def __init__(self, name):\n",
    "        self.name = name\n"
   ]
  },
  {
   "cell_type": "markdown",
   "metadata": {},
   "source": [
    "#### 64. Consider a given vector, how to add 1 to each element indexed by a second vector (be careful with repeated indices)? (★★★)"
   ]
  },
  {
   "cell_type": "code",
   "execution_count": null,
   "metadata": {},
   "outputs": [],
   "source": []
  },
  {
   "cell_type": "markdown",
   "metadata": {},
   "source": [
    "#### 65. How to accumulate elements of a vector (X) to an array (F) based on an index list (I)? (★★★)"
   ]
  },
  {
   "cell_type": "code",
   "execution_count": 67,
   "metadata": {},
   "outputs": [
    {
     "output_type": "execute_result",
     "data": {
      "text/plain": [
       "array([0, 3, 5, 6])"
      ]
     },
     "metadata": {},
     "execution_count": 67
    }
   ],
   "source": [
    "I = [ 0,3,5,6]\n",
    "X = np.arange(10)\n"
   ]
  },
  {
   "cell_type": "markdown",
   "metadata": {},
   "source": [
    "#### 66. Considering a (w,h,3) image of (dtype=ubyte), compute the number of unique colors (★★★)"
   ]
  },
  {
   "cell_type": "code",
   "execution_count": null,
   "metadata": {},
   "outputs": [],
   "source": []
  },
  {
   "cell_type": "markdown",
   "metadata": {},
   "source": [
    "#### 67. Considering a four dimensions array, how to get sum over the last two axis at once? (★★★)"
   ]
  },
  {
   "cell_type": "code",
   "execution_count": null,
   "metadata": {},
   "outputs": [],
   "source": []
  },
  {
   "cell_type": "markdown",
   "metadata": {},
   "source": [
    "#### 68. Considering a one-dimensional vector D, how to compute means of subsets of D using a vector S of same size describing subset  indices? (★★★)"
   ]
  },
  {
   "cell_type": "code",
   "execution_count": null,
   "metadata": {},
   "outputs": [],
   "source": []
  },
  {
   "cell_type": "markdown",
   "metadata": {},
   "source": [
    "#### 69. How to get the diagonal of a dot product? (★★★)"
   ]
  },
  {
   "cell_type": "code",
   "execution_count": null,
   "metadata": {},
   "outputs": [],
   "source": []
  },
  {
   "cell_type": "markdown",
   "metadata": {},
   "source": [
    "#### 70. Consider the vector [1, 2, 3, 4, 5], how to build a new vector with 3 consecutive zeros interleaved between each value? (★★★)"
   ]
  },
  {
   "cell_type": "code",
   "execution_count": 13,
   "metadata": {},
   "outputs": [
    {
     "output_type": "execute_result",
     "data": {
      "text/plain": [
       "(array([1, 2, 3, 4, 5]),\n",
       " array([1., 0., 0., 0., 2., 0., 0., 0., 3., 0., 0., 0., 4., 0., 0., 0., 5.]))"
      ]
     },
     "metadata": {},
     "execution_count": 13
    }
   ],
   "source": [
    "Z = np.array([1,2,3,4,5])\n",
    "A = np.zeros(17)\n",
    "A[::4] = np.arange(1,6)\n",
    "Z, A"
   ]
  },
  {
   "cell_type": "markdown",
   "metadata": {},
   "source": [
    "#### 71. Consider an array of dimension (5,5,3), how to mulitply it by an array with dimensions (5,5)? (★★★)"
   ]
  },
  {
   "cell_type": "code",
   "execution_count": null,
   "metadata": {},
   "outputs": [],
   "source": []
  },
  {
   "cell_type": "markdown",
   "metadata": {},
   "source": [
    "#### 72. How to swap two rows of an array? (★★★)"
   ]
  },
  {
   "cell_type": "code",
   "execution_count": 19,
   "metadata": {},
   "outputs": [
    {
     "output_type": "stream",
     "name": "stdout",
     "text": [
      "[[0.25260436 0.19567054 0.2441429 ]\n [0.64084567 0.26338918 0.10782886]\n [0.27526198 0.10964327 0.88905101]]\n"
     ]
    },
    {
     "output_type": "execute_result",
     "data": {
      "text/plain": [
       "array([[0.27526198, 0.10964327, 0.88905101],\n",
       "       [0.64084567, 0.26338918, 0.10782886],\n",
       "       [0.27526198, 0.10964327, 0.88905101]])"
      ]
     },
     "metadata": {},
     "execution_count": 19
    }
   ],
   "source": [
    "Z = np.random.rand(3, 3)\n",
    "print(Z)\n",
    "temp = Z[0]\n",
    "Z[0] = Z[2]\n",
    "Z[2] = temp\n",
    "Z "
   ]
  },
  {
   "cell_type": "markdown",
   "metadata": {},
   "source": [
    "#### 73. Consider a set of 10 triplets describing 10 triangles (with shared vertices), find the set of unique line segments composing all the  triangles (★★★)"
   ]
  },
  {
   "cell_type": "code",
   "execution_count": null,
   "metadata": {},
   "outputs": [],
   "source": []
  },
  {
   "cell_type": "markdown",
   "metadata": {},
   "source": [
    "#### 74. Given an array C that is a bincount, how to produce an array A such that np.bincount(A) == C? (★★★)"
   ]
  },
  {
   "cell_type": "code",
   "execution_count": null,
   "metadata": {},
   "outputs": [],
   "source": []
  },
  {
   "cell_type": "markdown",
   "metadata": {},
   "source": [
    "#### 75. How to compute averages using a sliding window over an array? (★★★)"
   ]
  },
  {
   "cell_type": "code",
   "execution_count": null,
   "metadata": {},
   "outputs": [],
   "source": []
  },
  {
   "cell_type": "markdown",
   "metadata": {},
   "source": [
    "#### 76. Consider a one-dimensional array Z, build a two-dimensional array whose first row is (Z[0],Z[1],Z[2]) and each subsequent row is  shifted by 1 (last row should be (Z[-3],Z[-2],Z[-1]) (★★★)"
   ]
  },
  {
   "cell_type": "code",
   "execution_count": null,
   "metadata": {},
   "outputs": [],
   "source": []
  },
  {
   "cell_type": "markdown",
   "metadata": {},
   "source": [
    "#### 77. How to negate a boolean, or to change the sign of a float inplace? (★★★)"
   ]
  },
  {
   "cell_type": "code",
   "execution_count": null,
   "metadata": {},
   "outputs": [],
   "source": []
  },
  {
   "cell_type": "markdown",
   "metadata": {},
   "source": [
    "#### 78. Consider 2 sets of points P0,P1 describing lines (2d) and a point p, how to compute distance from p to each line i (P0[i],P1[i])? (★★★)"
   ]
  },
  {
   "cell_type": "code",
   "execution_count": null,
   "metadata": {},
   "outputs": [],
   "source": []
  },
  {
   "cell_type": "markdown",
   "metadata": {},
   "source": [
    "#### 79. Consider 2 sets of points P0,P1 describing lines (2d) and a set of points P, how to compute distance from each point j (P[j]) to each line i (P0[i],P1[i])? (★★★)"
   ]
  },
  {
   "cell_type": "code",
   "execution_count": null,
   "metadata": {},
   "outputs": [],
   "source": []
  },
  {
   "cell_type": "markdown",
   "metadata": {},
   "source": [
    "#### 80. Consider an arbitrary array, write a function that extract a subpart with a fixed shape and centered on a given element (pad with a `fill` value when necessary) (★★★)"
   ]
  },
  {
   "cell_type": "code",
   "execution_count": null,
   "metadata": {},
   "outputs": [],
   "source": []
  },
  {
   "cell_type": "markdown",
   "metadata": {},
   "source": [
    "#### 81. Consider an array Z = [1,2,3,4,5,6,7,8,9,10,11,12,13,14], how to generate an array R = [[1,2,3,4], [2,3,4,5], [3,4,5,6], ..., [11,12,13,14]]? (★★★)"
   ]
  },
  {
   "cell_type": "code",
   "execution_count": 39,
   "metadata": {},
   "outputs": [
    {
     "output_type": "stream",
     "name": "stdout",
     "text": [
      "[ 1  2  3  4  5  6  7  8  9 10 11 12 13 14]\n"
     ]
    },
    {
     "output_type": "execute_result",
     "data": {
      "text/plain": [
       "array([14, 13, 12, 11, 10,  9,  8,  7,  6])"
      ]
     },
     "metadata": {},
     "execution_count": 39
    }
   ],
   "source": [
    "Z = np.arange(1, 15)\n",
    "print(Z)\n",
    "Z[:4:-1]"
   ]
  },
  {
   "cell_type": "markdown",
   "metadata": {},
   "source": [
    "#### 82. Compute a matrix rank (★★★)"
   ]
  },
  {
   "cell_type": "code",
   "execution_count": null,
   "metadata": {},
   "outputs": [],
   "source": []
  },
  {
   "cell_type": "markdown",
   "metadata": {},
   "source": [
    "#### 83. How to find the most frequent value in an array?"
   ]
  },
  {
   "cell_type": "code",
   "execution_count": null,
   "metadata": {},
   "outputs": [],
   "source": []
  },
  {
   "cell_type": "markdown",
   "metadata": {},
   "source": [
    "#### 84. Extract all the contiguous 3x3 blocks from a random 10x10 matrix (★★★)"
   ]
  },
  {
   "cell_type": "code",
   "execution_count": null,
   "metadata": {},
   "outputs": [],
   "source": []
  },
  {
   "cell_type": "markdown",
   "metadata": {},
   "source": [
    "#### 85. Create a 2D array subclass such that Z[i,j] == Z[j,i] (★★★)"
   ]
  },
  {
   "cell_type": "code",
   "execution_count": null,
   "metadata": {},
   "outputs": [],
   "source": []
  },
  {
   "cell_type": "markdown",
   "metadata": {},
   "source": [
    "#### 86. Consider a set of p matrices wich shape (n,n) and a set of p vectors with shape (n,1). How to compute the sum of of the p matrix products at once? (result has shape (n,1)) (★★★)"
   ]
  },
  {
   "cell_type": "code",
   "execution_count": null,
   "metadata": {},
   "outputs": [],
   "source": []
  },
  {
   "cell_type": "markdown",
   "metadata": {},
   "source": [
    "#### 87. Consider a 16x16 array, how to get the block-sum (block size is 4x4)? (★★★)"
   ]
  },
  {
   "cell_type": "code",
   "execution_count": null,
   "metadata": {},
   "outputs": [],
   "source": []
  },
  {
   "cell_type": "markdown",
   "metadata": {},
   "source": [
    "#### 88. How to implement the Game of Life using numpy arrays? (★★★)"
   ]
  },
  {
   "cell_type": "code",
   "execution_count": null,
   "metadata": {},
   "outputs": [],
   "source": []
  },
  {
   "cell_type": "markdown",
   "metadata": {},
   "source": [
    "#### 89. How to get the n largest values of an array (★★★)"
   ]
  },
  {
   "cell_type": "code",
   "execution_count": null,
   "metadata": {},
   "outputs": [],
   "source": []
  },
  {
   "cell_type": "markdown",
   "metadata": {},
   "source": [
    "#### 90. Given an arbitrary number of vectors, build the cartesian product (every combinations of every item) (★★★)"
   ]
  },
  {
   "cell_type": "code",
   "execution_count": null,
   "metadata": {},
   "outputs": [],
   "source": []
  },
  {
   "cell_type": "markdown",
   "metadata": {},
   "source": [
    "#### 91. How to create a record array from a regular array? (★★★)"
   ]
  },
  {
   "cell_type": "code",
   "execution_count": null,
   "metadata": {},
   "outputs": [],
   "source": []
  },
  {
   "cell_type": "markdown",
   "metadata": {},
   "source": [
    "#### 92. Consider a large vector Z, compute Z to the power of 3 using 3 different methods (★★★)"
   ]
  },
  {
   "cell_type": "code",
   "execution_count": null,
   "metadata": {},
   "outputs": [],
   "source": []
  },
  {
   "cell_type": "markdown",
   "metadata": {},
   "source": [
    "#### 93. Consider two arrays A and B of shape (8,3) and (2,2). How to find rows of A that contain elements of each row of B regardless of the order of the elements in B? (★★★)"
   ]
  },
  {
   "cell_type": "code",
   "execution_count": null,
   "metadata": {},
   "outputs": [],
   "source": []
  },
  {
   "cell_type": "markdown",
   "metadata": {},
   "source": [
    "#### 94. Considering a 10x3 matrix, extract rows with unequal values (e.g. [2,2,3]) (★★★)"
   ]
  },
  {
   "cell_type": "code",
   "execution_count": null,
   "metadata": {},
   "outputs": [],
   "source": []
  },
  {
   "cell_type": "markdown",
   "metadata": {},
   "source": [
    "#### 95. Convert a vector of ints into a matrix binary representation (★★★)"
   ]
  },
  {
   "cell_type": "code",
   "execution_count": null,
   "metadata": {},
   "outputs": [],
   "source": []
  },
  {
   "cell_type": "markdown",
   "metadata": {},
   "source": [
    "#### 96. Given a two dimensional array, how to extract unique rows? (★★★)"
   ]
  },
  {
   "cell_type": "code",
   "execution_count": null,
   "metadata": {},
   "outputs": [],
   "source": []
  },
  {
   "cell_type": "markdown",
   "metadata": {},
   "source": [
    "#### 97. Considering 2 vectors A & B, write the einsum equivalent of inner, outer, sum, and mul function (★★★)"
   ]
  },
  {
   "cell_type": "code",
   "execution_count": null,
   "metadata": {},
   "outputs": [],
   "source": []
  },
  {
   "cell_type": "markdown",
   "metadata": {},
   "source": [
    "#### 98. Considering a path described by two vectors (X,Y), how to sample it using equidistant samples (★★★)?"
   ]
  },
  {
   "cell_type": "code",
   "execution_count": null,
   "metadata": {},
   "outputs": [],
   "source": []
  },
  {
   "cell_type": "markdown",
   "metadata": {},
   "source": [
    "#### 99. Given an integer n and a 2D array X, select from X the rows which can be interpreted as draws from a multinomial distribution with n degrees, i.e., the rows which only contain integers and which sum to n. (★★★)"
   ]
  },
  {
   "cell_type": "code",
   "execution_count": null,
   "metadata": {},
   "outputs": [],
   "source": []
  },
  {
   "cell_type": "markdown",
   "metadata": {},
   "source": [
    "#### 100. Compute bootstrapped 95% confidence intervals for the mean of a 1D array X (i.e., resample the elements of an array with replacement N times, compute the mean of each sample, and then compute percentiles over the means). (★★★)"
   ]
  },
  {
   "cell_type": "code",
   "execution_count": null,
   "metadata": {},
   "outputs": [],
   "source": []
  }
 ],
 "metadata": {
  "kernelspec": {
   "name": "Python 3.8.3 64-bit ('numpyenv')",
   "display_name": "Python 3.8.3 64-bit ('numpyenv')",
   "metadata": {
    "interpreter": {
     "hash": "147d9e33f42f99fc2110e46b5c4b90a3a40315237c0b9b0bdb16fbe8c4aadfbf"
    }
   }
  }
 },
 "nbformat": 4,
 "nbformat_minor": 4
}